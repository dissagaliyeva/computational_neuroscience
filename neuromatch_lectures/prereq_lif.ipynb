{
 "cells": [
  {
   "cell_type": "markdown",
   "source": [
    "### Leaky-Integrate-and-Fire (LIF) neuron\n",
    "\n",
    "A membrane equation and reset condition define the LIF neuron:\n",
    "$$\\tau_m \\frac{d}{dt}V(t)=E_L - V(T)+RI(t)$$ if $$V(t)\\leq V_{th}$$\n",
    "$$V(t)=V_{reset}$$ otherwise\n",
    "\n",
    "where $V(t)$ is the membrane potential, $\\tau_m$ is the membrane time constant, $E_L$ is the leak potential, $R$ is the membrane resistance, $I(t)$ is the synaptic input current, $V_{th}$ is the firing threshold, and $V_{reset}$ is the reset voltage. We can also write $V_m$ as the membrane potential for more convenient plot labels.\n",
    "\n",
    "The membrane equation describe the time evolution of membrane potential $V(t)$ in response to synaptic input and leaking of charge across the cell membrane. This is an *ordinary differential equation (ODE)*\n",
    "\n",
    "#### Contents:\n",
    "- visualize the evolution of its membrane potential in time\n",
    "- extract essential statistical properties"
   ],
   "metadata": {
    "collapsed": false
   }
  },
  {
   "cell_type": "code",
   "execution_count": 1,
   "metadata": {
    "collapsed": true
   },
   "outputs": [],
   "source": [
    "import numpy as np\n",
    "import matplotlib.pyplot as plt\n",
    "import seaborn as sns\n",
    "sns.set()"
   ]
  },
  {
   "cell_type": "markdown",
   "source": [
    "First, define and initialize the main simulation variables for LIF neuron by supplemneting the values provided above."
   ],
   "metadata": {
    "collapsed": false
   }
  },
  {
   "cell_type": "code",
   "execution_count": 2,
   "outputs": [
    {
     "name": "stdout",
     "output_type": "stream",
     "text": [
      "0.15 0.001 0.02 -0.06 -0.07 -0.05 100000000.0 2.5e-10\n"
     ]
    }
   ],
   "source": [
    "t_max = 15e-2     # second\n",
    "dt = 1e-3         # second\n",
    "tau = 20e-3       # second\n",
    "el = -6e-2        # milivolt\n",
    "vr = -7e-2        # milivolt\n",
    "vth = -5e-2       # milivolt\n",
    "r = 100e6         # ohm\n",
    "i_mean = 25e-11   # ampere\n",
    "\n",
    "print(t_max, dt, tau, el, vr, vth, r, i_mean)"
   ],
   "metadata": {
    "collapsed": false,
    "pycharm": {
     "name": "#%%\n"
    }
   }
  },
  {
   "cell_type": "markdown",
   "source": [
    "Now we need to simulate synaptic input $I(t)$ that goes into our model neuron. We will start with a sinusoidal model to simulate this input using the equation: $$I(t)=I_{mean}(1+sin(\\frac{2\\pi}{0.01}t))$$\n",
    "where $I_{mean}$ is the mean current input and $t$ is the time.\n",
    "\n",
    "Now we will compute the values of synaptic input $I(t)$ between t=0 and t=0.009 with step 0.001"
   ],
   "metadata": {
    "collapsed": false
   }
  },
  {
   "cell_type": "code",
   "execution_count": 3,
   "outputs": [
    {
     "data": {
      "text/plain": "array([2.50000000e-10, 3.96946313e-10, 4.87764129e-10, 4.87764129e-10,\n       3.96946313e-10, 2.50000000e-10, 1.03053687e-10, 1.22358709e-11,\n       1.22358709e-11, 1.03053687e-10])"
     },
     "execution_count": 3,
     "metadata": {},
     "output_type": "execute_result"
    }
   ],
   "source": [
    "t = np.arange(0, 0.01, 0.001)\n",
    "i_t = i_mean * (1 + np.sin((2 * np.pi) / 0.01 * t))\n",
    "i_t"
   ],
   "metadata": {
    "collapsed": false,
    "pycharm": {
     "name": "#%%\n"
    }
   }
  },
  {
   "cell_type": "markdown",
   "source": [
    "### Plotting current"
   ],
   "metadata": {
    "collapsed": false
   }
  },
  {
   "cell_type": "code",
   "execution_count": 4,
   "outputs": [
    {
     "data": {
      "text/plain": "<Figure size 432x288 with 1 Axes>",
      "image/png": "[encoded data removed]"
     },
     "metadata": {
      "needs_background": "light"
     },
     "output_type": "display_data"
    }
   ],
   "source": [
    "# Initialize step_end\n",
    "step_end = 25\n",
    "\n",
    "# Initialize the figure\n",
    "plt.figure()\n",
    "plt.title('Synaptic Input I(t)')\n",
    "plt.xlabel('time(s)')\n",
    "plt.ylabel('I(A)')\n",
    "\n",
    "# Loop for step_end steps\n",
    "for step in range(step_end):\n",
    "\n",
    "  # Compute value of t\n",
    "  t = step * dt\n",
    "\n",
    "  # Compute value of i at this time step\n",
    "  i = i_mean * (1 + np.sin((t * 2 * np.pi) / 0.01))\n",
    "\n",
    "  # Plot i (use 'ko' to get small black dots (short for color='k' and marker = 'o'))\n",
    "  plt.plot(t, i,  marker='o', color='k')\n",
    "\n",
    "# Display the plot\n",
    "plt.show()"
   ],
   "metadata": {
    "collapsed": false,
    "pycharm": {
     "name": "#%%\n"
    }
   }
  },
  {
   "cell_type": "markdown",
   "source": [
    "### Plotting membrane potential\n",
    "\n",
    "Plot the values of $V(t)$ between $t=0$ and $t=t_{max}$. We can compute the numbers of steps required to get to $t=t_{max}$ given step as $int(t_{max}/dt)$ where int gets the nearest integer"
   ],
   "metadata": {
    "collapsed": false
   }
  },
  {
   "cell_type": "code",
   "execution_count": 13,
   "outputs": [
    {
     "data": {
      "text/plain": "<Figure size 432x288 with 1 Axes>",
      "image/png": "[encoded data removed]"
     },
     "metadata": {
      "needs_background": "light"
     },
     "output_type": "display_data"
    }
   ],
   "source": [
    "step_end = int(t_max / dt)\n",
    "\n",
    "# initialize v0\n",
    "v = el\n",
    "\n",
    "plt.figure()\n",
    "plt.title('$V_m$ with sinusoidal I(t)')\n",
    "plt.xlabel('time(s)')\n",
    "plt.ylabel('$V_m$(V)')\n",
    "\n",
    "# loop for step_ends steps\n",
    "for step in range(step_end):\n",
    "  # compute t\n",
    "  t = step * dt\n",
    "\n",
    "  # compute value of i at this time step\n",
    "  i = i_mean * (1 + np.sin((t * 2 * np.pi) / 0.01))\n",
    "\n",
    "  # compute v\n",
    "  v += dt / tau * (el - v + r * i)\n",
    "\n",
    "  plt.plot(t, v, 'k.')\n",
    "\n",
    "plt.show()"
   ],
   "metadata": {
    "collapsed": false,
    "pycharm": {
     "name": "#%%\n"
    }
   }
  },
  {
   "cell_type": "markdown",
   "source": [],
   "metadata": {
    "collapsed": false
   }
  },
  {
   "cell_type": "code",
   "execution_count": null,
   "outputs": [],
   "source": [],
   "metadata": {
    "collapsed": false,
    "pycharm": {
     "name": "#%%\n"
    }
   }
  }
 ],
 "metadata": {
  "kernelspec": {
   "display_name": "Python 3",
   "language": "python",
   "name": "python3"
  },
  "language_info": {
   "codemirror_mode": {
    "name": "ipython",
    "version": 2
   },
   "file_extension": ".py",
   "mimetype": "text/x-python",
   "name": "python",
   "nbconvert_exporter": "python",
   "pygments_lexer": "ipython2",
   "version": "2.7.6"
  }
 },
 "nbformat": 4,
 "nbformat_minor": 0
}